{
 "nbformat_minor": 4, 
 "nbformat": 4, 
 "cells": [
  {
   "source": [
    "# RAG Pipeline Demo\n", 
    "\n", 
    "This notebook demonstrates the complete RAG (Retrieval-Augmented Generation) pipeline, including:\n", 
    "1. Data Ingestion Pipeline\n", 
    "2. Query Pipeline\n", 
    "3. Graph-based Query Processing"
   ], 
   "cell_type": "markdown", 
   "metadata": {}
  }, 
  {
   "source": [
    "## 1. Setup and Imports"
   ], 
   "cell_type": "markdown", 
   "metadata": {}
  }, 
  {
   "execution_count": null, 
   "cell_type": "code", 
   "source": [
    "import os\n", 
    "import sys\n", 
    "\n", 
    "# Add src directory to Python path\n", 
    "sys.path.append(os.path.join(os.getcwd(), 'src'))\n", 
    "\n", 
    "from src import DataIngestionPipeline, QueryPipeline, QueryProcessorGraph\n", 
    "from pprint import pprint"
   ], 
   "metadata": {}
  }, 
  {
   "source": [
    "## 2. Data Ingestion Pipeline\n", 
    "\n", 
    "This section demonstrates how to ingest documents into the system. This only needs to be run once.\n", 
    "\n", 
    "The ingestion pipeline will automatically process all documents in the specified folder and determine the company and service information from the document content."
   ], 
   "cell_type": "markdown", 
   "metadata": {}
  }, 
  {
   "execution_count": null, 
   "cell_type": "code", 
   "source": [
    "# Define the input folder path\n", 
    "input_folder = \"path/to/your/documents\"  # Replace with your document folder path\n", 
    "\n", 
    "# Initialize the ingestion pipeline\n", 
    "ingestion_pipeline = DataIngestionPipeline(input_folder)\n", 
    "\n", 
    "# Process all documents in the folder\n", 
    "print(\"Starting document ingestion...\")\n", 
    "results = ingestion_pipeline.process_folder()\n", 
    "\n", 
    "# Display results\n", 
    "print(\"\\nIngestion Results:\")\n", 
    "for result in results:\n", 
    "    print(f\"- Processed {result['file_name']}: {result['total_chunks']} chunks\")\n", 
    "    if 'company' in result and 'service' in result:\n", 
    "        print(f\"  Company: {result['company']}, Service: {result['service']}\")\n", 
    "\n", 
    "print(\"\\nData ingestion completed successfully!\")"
   ], 
   "metadata": {}
  }, 
  {
   "source": [
    "## 3. Query Pipeline\n", 
    "\n", 
    "This section demonstrates how to query the ingested documents. This can be run multiple times."
   ], 
   "cell_type": "markdown", 
   "metadata": {}
  }, 
  {
   "execution_count": null, 
   "cell_type": "code", 
   "source": [
    "# Initialize the query pipeline\n", 
    "query_pipeline = QueryPipeline(input_folder)\n", 
    "\n", 
    "# Example queries\n", 
    "queries = [\n", 
    "    \"What are the benefits of cloud computing?\",\n", 
    "    \"How does cloud computing improve business operations?\",\n", 
    "    \"What are the security considerations for cloud computing?\"\n", 
    "]\n", 
    "\n", 
    "# Process each query\n", 
    "for query in queries:\n", 
    "    print(f\"\\nQuery: {query}\")\n", 
    "    print(\"-\" * 50)\n", 
    "    \n", 
    "    result = query_pipeline.process_query(\n", 
    "        query=query,\n", 
    "        n_results=3\n", 
    "    )\n", 
    "    \n", 
    "    print(f\"Answer: {result['answer']}\")\n", 
    "    print(\"\\nSources:\")\n", 
    "    for source in result['sources']:\n", 
    "        print(f\"- {source}\")\n", 
    "    print(\"-\" * 50)"
   ], 
   "metadata": {}
  }, 
  {
   "source": [
    "## 4. Interactive Query\n", 
    "\n", 
    "This section allows you to input your own queries interactively."
   ], 
   "cell_type": "markdown", 
   "metadata": {}
  }, 
  {
   "execution_count": null, 
   "cell_type": "code", 
   "source": [
    "def interactive_query():\n", 
    "    while True:\n", 
    "        print(\"\\nEnter your query (or 'quit' to exit):\")\n", 
    "        query = input().strip()\n", 
    "        \n", 
    "        if query.lower() == 'quit':\n", 
    "            break\n", 
    "            \n", 
    "        result = query_pipeline.process_query(\n", 
    "            query=query,\n", 
    "            n_results=3\n", 
    "        )\n", 
    "        \n", 
    "        print(f\"\\nAnswer: {result['answer']}\")\n", 
    "        print(\"\\nSources:\")\n", 
    "        for source in result['sources']:\n", 
    "            print(f\"- {source}\")\n", 
    "\n", 
    "# Run interactive query\n", 
    "interactive_query()"
   ], 
   "metadata": {}
  }, 
  {
   "source": [
    "## 5. Additional Features\n", 
    "\n", 
    "This section demonstrates some additional features of the pipeline."
   ], 
   "cell_type": "markdown", 
   "metadata": {}
  }, 
  {
   "execution_count": null, 
   "cell_type": "code", 
   "source": [
    "# Example of a complex query\n", 
    "complex_query = \"What are the benefits and challenges of implementing cloud computing, and how do they affect business operations?\"\n", 
    "\n", 
    "print(f\"\\nComplex Query: {complex_query}\")\n", 
    "print(\"-\" * 50)\n", 
    "\n", 
    "result = query_pipeline.process_query(\n", 
    "    query=complex_query,\n", 
    "    n_results=5\n", 
    ")\n", 
    "\n", 
    "print(f\"Answer: {result['answer']}\")\n", 
    "print(\"\\nSources:\")\n", 
    "for source in result['sources']:\n", 
    "    print(f\"- {source}\")\n", 
    "print(\"-\" * 50)\n", 
    "\n", 
    "# Display query analysis\n", 
    "print(\"\\nQuery Analysis:\")\n", 
    "pprint(result['query_analysis'])"
   ], 
   "metadata": {}
  }, 
  {
   "source": [
    "## 6. Graph-based Query Processing\n", 
    "\n", 
    "This section demonstrates how to use the graph-based query processor, which provides a more structured and flexible approach to query processing.\n", 
    "\n", 
    "The `QueryProcessorGraph` uses LangGraph to manage the query processing workflow, including:\n", 
    "1. Query rewriting\n", 
    "2. Complexity analysis\n", 
    "3. Query decomposition (for complex queries)\n", 
    "4. Document retrieval\n", 
    "5. Result reranking\n", 
    "6. Answer generation"
   ], 
   "cell_type": "markdown", 
   "metadata": {}
  }, 
  {
   "execution_count": null, 
   "cell_type": "code", 
   "source": [
    "# Initialize the graph-based processor\n", 
    "graph_processor = QueryProcessorGraph(input_folder)\n", 
    "\n", 
    "# Example of a simple query\n", 
    "simple_query = \"What is cloud computing?\"\n", 
    "print(f\"\\nSimple Query: {simple_query}\")\n", 
    "print(\"-\" * 50)\n", 
    "\n", 
    "result = graph_processor.process_query(simple_query)\n", 
    "print(f\"Answer: {result['answer']}\")\n", 
    "print(\"\\nSources:\")\n", 
    "for source in result['sources']:\n", 
    "    print(f\"- {source}\")\n", 
    "print(\"-\" * 50)\n", 
    "\n", 
    "# Display query analysis\n", 
    "print(\"\\nQuery Analysis:\")\n", 
    "pprint(result['query_analysis'])"
   ], 
   "metadata": {}
  }, 
  {
   "execution_count": null, 
   "cell_type": "code", 
   "source": [
    "# Example of a complex query\n", 
    "complex_query = \"Compare the benefits and challenges of cloud computing, and explain how to implement a cloud migration strategy.\"\n", 
    "print(f\"\\nComplex Query: {complex_query}\")\n", 
    "print(\"-\" * 50)\n", 
    "\n", 
    "result = graph_processor.process_query(complex_query)\n", 
    "print(f\"Answer: {result['answer']}\")\n", 
    "print(\"\\nSources:\")\n", 
    "for source in result['sources']:\n", 
    "    print(f\"- {source}\")\n", 
    "print(\"-\" * 50)\n", 
    "\n", 
    "# Display query analysis and decomposition\n", 
    "print(\"\\nQuery Analysis:\")\n", 
    "pprint(result['query_analysis'])\n", 
    "\n", 
    "if result['query_analysis']['is_complex']:\n", 
    "    print(\"\\nSub-questions:\")\n", 
    "    for i, sub_q in enumerate(result['sub_questions'], 1):\n", 
    "        print(f\"{i}. {sub_q}\")\n", 
    "    print(\"\\nSub-answers:\")\n", 
    "    for i, sub_a in enumerate(result['sub_answers'], 1):\n", 
    "        print(f\"{i}. {sub_a['answer']}\")"
   ], 
   "metadata": {}
  }, 
  {
   "execution_count": null, 
   "cell_type": "code", 
   "source": [
    "# Interactive query with graph processor and conversation memory\n", 
    "def interactive_graph_query():\n", 
    "    print(\"Welcome to the interactive query system with conversation memory!\")\n", 
    "    print(\"You can ask follow-up questions based on previous answers.\")\n", 
    "    print(\"Type 'quit' to exit, 'history' to see conversation history, or 'clear' to clear history.\\n\")\n", 
    "    \n", 
    "    while True:\n", 
    "        print(\"\\nEnter your query (required, or 'quit'/'history'/'clear'):\")\n", 
    "        query = input().strip()\n", 
    "        \n", 
    "        if query.lower() == 'quit':\n", 
    "            break\n", 
    "        elif query.lower() == 'history':\n", 
    "            if graph_processor.conversation_history:\n", 
    "                print(\"\\nConversation History:\")\n", 
    "                for i, msg in enumerate(graph_processor.conversation_history, 1):\n", 
    "                    print(f\"\\n{i}. Q: {msg['query']}\")\n", 
    "                    print(f\"   A: {msg['answer']}\")\n", 
    "            else:\n", 
    "                print(\"No conversation history yet.\")\n", 
    "            continue\n", 
    "        elif query.lower() == 'clear':\n", 
    "            graph_processor.conversation_history = []\n", 
    "            print(\"Conversation history cleared.\")\n", 
    "            continue\n", 
    "        \n", 
    "        if not query:\n", 
    "            print(\"Query cannot be empty. Please try again.\")\n", 
    "            continue\n", 
    "            \n", 
    "        print(\"Enter company name (optional, press Enter to skip):\")\n", 
    "        company = input().strip()\n", 
    "        \n", 
    "        print(\"Enter service name (optional, press Enter to skip):\")\n", 
    "        service = input().strip()\n", 
    "        \n", 
    "        # Prepare parameters\n", 
    "        params = {\"query\": query}\n", 
    "        if company:\n", 
    "            params[\"company\"] = company\n", 
    "        if service:\n", 
    "            params[\"service\"] = service\n", 
    "            \n", 
    "        result = graph_processor.process_query(**params)\n", 
    "        \n", 
    "        print(f\"\\nAnswer: {result['answer']}\")\n", 
    "        print(\"\\nSources:\")\n", 
    "        for source in result['sources']:\n", 
    "            print(f\"- {source}\")\n", 
    "        \n", 
    "        print(\"\\nQuery Analysis:\")\n", 
    "        pprint(result['query_analysis'])\n", 
    "        \n", 
    "        if result['query_analysis']['is_complex']:\n", 
    "            print(\"\\nSub-questions:\")\n", 
    "            for i, sub_q in enumerate(result['sub_questions'], 1):\n", 
    "                print(f\"{i}. {sub_q}\")\n", 
    "            print(\"\\nSub-answers:\")\n", 
    "            for i, sub_a in enumerate(result['sub_answers'], 1):\n", 
    "                print(f\"{i}. {sub_a['answer']}\")\n", 
    "\n", 
    "# Run interactive query\n", 
    "interactive_graph_query()"
   ], 
   "metadata": {}
  }
 ], 
 "metadata": {
  "kernelspec": {
   "display_name": "Python 3", 
   "name": "python3", 
   "language": "python"
  }, 
  "language_info": {
   "mimetype": "text/x-python", 
   "nbconvert_exporter": "python", 
   "name": "python", 
   "file_extension": ".py", 
   "version": "3.8.0", 
   "pygments_lexer": "ipython3", 
   "codemirror_mode": {
    "version": 3, 
    "name": "ipython"
   }
  }
 }
}